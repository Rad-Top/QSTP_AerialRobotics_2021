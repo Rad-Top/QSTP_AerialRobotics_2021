{
 "metadata": {
  "language_info": {
   "codemirror_mode": {
    "name": "ipython",
    "version": 3
   },
   "file_extension": ".py",
   "mimetype": "text/x-python",
   "name": "python",
   "nbconvert_exporter": "python",
   "pygments_lexer": "ipython3",
   "version": "3.8.8"
  },
  "orig_nbformat": 4,
  "kernelspec": {
   "name": "python3",
   "display_name": "Python 3.8.8 64-bit ('base': conda)"
  },
  "interpreter": {
   "hash": "7b4b4feff2f24a0f0a34464dbe537a36fda679851528fb8735cb41fa49dffb2d"
  }
 },
 "nbformat": 4,
 "nbformat_minor": 2,
 "cells": [
  {
   "cell_type": "code",
   "execution_count": 1,
   "metadata": {},
   "outputs": [],
   "source": [
    "import numpy as np \n",
    "import matplotlib.pyplot as plt "
   ]
  },
  {
   "cell_type": "code",
   "execution_count": 23,
   "metadata": {},
   "outputs": [],
   "source": [
    "def transformPoint(xy, XY, theta):\n",
    "    #Step 1: Rotate the axis\n",
    "    xrot = (xy[0] * np.cos(theta)) + (xy[1] * np.sin(theta)) \n",
    "    yrot = (-xy[0] * np.sin(theta)) + (xy[1] * np.cos(theta))\n",
    "\n",
    "    #Step 2: Translate\n",
    "    x_dash = xrot - XY[0]\n",
    "    y_dash = yrot - XY[1]\n",
    "    plotExtents = XY[0], x_dash+10, XY[1], y_dash + 10\n",
    "    transform = Affine2D().rotate_deg(theta)\n",
    "    help(plotExtents)\n",
    "    helper = floating_axes.GridHelperCurveLinear(transform,plotExtents)\n",
    "    #return x_dash, y_dash"
   ]
  },
  {
   "cell_type": "code",
   "execution_count": null,
   "metadata": {},
   "outputs": [],
   "source": []
  }
 ]
}